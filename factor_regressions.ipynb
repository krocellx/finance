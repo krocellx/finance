{
 "cells": [
  {
   "cell_type": "code",
   "execution_count": 1,
   "metadata": {},
   "outputs": [],
   "source": [
    "import numpy as np\n",
    "import pandas as pd\n",
    "from sklearn.linear_model import LinearRegression\n",
    "import yfinance as yf\n",
    "import statsmodels.api as sm\n",
    "import xlwings as xw"
   ]
  },
  {
   "cell_type": "code",
   "execution_count": 2,
   "metadata": {},
   "outputs": [],
   "source": [
    "INPUT_TICKERS = ['AAPL','TSLA']\n",
    "TICKERS = ['SPY']\n",
    "START_DATE = '2021-01-01'\n",
    "END_DATE = '2021-11-30'"
   ]
  },
  {
   "cell_type": "code",
   "execution_count": 3,
   "metadata": {},
   "outputs": [
    {
     "name": "stdout",
     "output_type": "stream",
     "text": [
      "[*********************100%***********************]  3 of 3 completed\n"
     ]
    }
   ],
   "source": [
    "# get timeseries data from Yahoo Finance\n",
    "\n",
    "df = yf.download( TICKERS + INPUT_TICKERS, start=START_DATE, end=END_DATE)"
   ]
  },
  {
   "cell_type": "code",
   "execution_count": 4,
   "metadata": {},
   "outputs": [],
   "source": [
    "# calculate log return\n",
    "\n",
    "idx = pd.IndexSlice\n",
    "df_close = df.loc[:,idx['Close']].copy()\n",
    "\n",
    "df_close_log_return = np.log(df_close) - np.log(df_close.shift(1))\n",
    "df_close_log_return.dropna(inplace=True)\n",
    "\n",
    "x = df_close_log_return[INPUT_TICKERS]\n",
    "y = df_close_log_return[TICKERS]"
   ]
  },
  {
   "cell_type": "code",
   "execution_count": 5,
   "metadata": {},
   "outputs": [],
   "source": [
    "# run regression model using statmodels\n",
    "\n",
    "x_con = sm.add_constant(x)\n",
    "model = sm.OLS(y, x_con).fit()\n"
   ]
  },
  {
   "cell_type": "code",
   "execution_count": null,
   "metadata": {},
   "outputs": [],
   "source": [
    "# print model summary\n",
    "print(model.summary())"
   ]
  },
  {
   "cell_type": "code",
   "execution_count": 8,
   "metadata": {},
   "outputs": [],
   "source": [
    "# put into a function\n",
    "\n",
    "def factor_regressions(dependent, independents, start_date, end_date):\n",
    "    #   Inputs:\n",
    "    #       dependent (list):\n",
    "    #       independents (list):\n",
    "    #       start_date - YYYY-MM-DD (string):\n",
    "    #       end_date - YYYY-MM-DD (string):\n",
    "    #   Outputs:\n",
    "    #       model (statsmodel)\n",
    "\n",
    "    # get timeseries data from Yahoo Finance\n",
    "    df = yf.download( dependent + independents, start=start_date, end=end_date)\n",
    "\n",
    "    # calculate log return\n",
    "    idx = pd.IndexSlice\n",
    "    df_close = df.loc[:,idx['Close']].copy()\n",
    "\n",
    "    df_close_log_return = np.log(df_close) - np.log(df_close.shift(1))\n",
    "    df_close_log_return.dropna(inplace=True)\n",
    "\n",
    "    x = df_close_log_return[independents]\n",
    "    y = df_close_log_return[dependent]\n",
    "\n",
    "    # run regression model using statmodels\n",
    "    x_con = sm.add_constant(x)\n",
    "    model = sm.OLS(y, x_con).fit()\n",
    "\n",
    "    return model\n"
   ]
  },
  {
   "cell_type": "code",
   "execution_count": 9,
   "metadata": {},
   "outputs": [
    {
     "name": "stdout",
     "output_type": "stream",
     "text": [
      "[*********************100%***********************]  3 of 3 completed\n"
     ]
    }
   ],
   "source": [
    "RESULT = factor_regressions(dependent=TICKERS, independents=INPUT_TICKERS, start_date=START_DATE, end_date=END_DATE)"
   ]
  },
  {
   "cell_type": "code",
   "execution_count": 11,
   "metadata": {},
   "outputs": [
    {
     "name": "stdout",
     "output_type": "stream",
     "text": [
      "                            OLS Regression Results                            \n",
      "==============================================================================\n",
      "Dep. Variable:                    SPY   R-squared:                       0.514\n",
      "Model:                            OLS   Adj. R-squared:                  0.510\n",
      "Method:                 Least Squares   F-statistic:                     119.0\n",
      "Date:                Sat, 22 Jan 2022   Prob (F-statistic):           5.46e-36\n",
      "Time:                        16:26:46   Log-Likelihood:                 864.41\n",
      "No. Observations:                 228   AIC:                            -1723.\n",
      "Df Residuals:                     225   BIC:                            -1713.\n",
      "Df Model:                           2                                         \n",
      "Covariance Type:            nonrobust                                         \n",
      "==============================================================================\n",
      "                 coef    std err          t      P>|t|      [0.025      0.975]\n",
      "------------------------------------------------------------------------------\n",
      "const          0.0006      0.000      1.752      0.081   -7.99e-05       0.001\n",
      "AAPL           0.3228      0.026     12.268      0.000       0.271       0.375\n",
      "TSLA           0.0366      0.012      3.056      0.003       0.013       0.060\n",
      "==============================================================================\n",
      "Omnibus:                       11.275   Durbin-Watson:                   2.001\n",
      "Prob(Omnibus):                  0.004   Jarque-Bera (JB):               25.363\n",
      "Skew:                          -0.057   Prob(JB):                     3.11e-06\n",
      "Kurtosis:                       4.630   Cond. No.                         74.0\n",
      "==============================================================================\n",
      "\n",
      "Notes:\n",
      "[1] Standard Errors assume that the covariance matrix of the errors is correctly specified.\n"
     ]
    }
   ],
   "source": [
    "print(RESULT.summary())"
   ]
  },
  {
   "cell_type": "code",
   "execution_count": null,
   "metadata": {},
   "outputs": [],
   "source": []
  }
 ],
 "metadata": {
  "interpreter": {
   "hash": "4480e32245891b07b354378c7dbc380a1b3f17ee24171af64af582c25470e498"
  },
  "kernelspec": {
   "display_name": "Python 3.8.8 64-bit ('base': conda)",
   "language": "python",
   "name": "python3"
  },
  "language_info": {
   "codemirror_mode": {
    "name": "ipython",
    "version": 3
   },
   "file_extension": ".py",
   "mimetype": "text/x-python",
   "name": "python",
   "nbconvert_exporter": "python",
   "pygments_lexer": "ipython3",
   "version": "3.8.8"
  },
  "orig_nbformat": 4
 },
 "nbformat": 4,
 "nbformat_minor": 2
}
