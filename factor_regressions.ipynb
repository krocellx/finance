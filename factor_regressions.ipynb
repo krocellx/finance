{
 "cells": [
  {
   "cell_type": "code",
   "execution_count": 48,
   "metadata": {},
   "outputs": [],
   "source": [
    "import numpy as np\n",
    "import pandas as pd\n",
    "from sklearn.linear_model import LinearRegression\n",
    "import yfinance as yf\n",
    "import statsmodels.api as sm\n",
    "import xlwings as xw"
   ]
  },
  {
   "cell_type": "code",
   "execution_count": 109,
   "metadata": {},
   "outputs": [],
   "source": [
    "TICKERS = ['SPY','AAPL','TSLA']\n",
    "START_DATE = '2021-01-01'\n",
    "END_DATE = '2021-11-30'"
   ]
  },
  {
   "cell_type": "code",
   "execution_count": 110,
   "metadata": {},
   "outputs": [
    {
     "name": "stdout",
     "output_type": "stream",
     "text": [
      "[*********************100%***********************]  3 of 3 completed\n"
     ]
    }
   ],
   "source": [
    "# get timeseries data from Yahoo Finance\n",
    "\n",
    "df = yf.download(TICKERS, start=START_DATE, end=END_DATE)"
   ]
  },
  {
   "cell_type": "code",
   "execution_count": 111,
   "metadata": {},
   "outputs": [],
   "source": [
    "# calculate log return\n",
    "\n",
    "idx = pd.IndexSlice\n",
    "df_close = df.loc[:,idx['Close']].copy()\n",
    "\n",
    "df_close_log_return = np.log(df_close) - np.log(df_close.shift(1))\n",
    "df_close_log_return.dropna(inplace=True)\n",
    "\n",
    "x = df_close_log_return[['AAPL', 'TSLA']]\n",
    "y = df_close_log_return[['SPY']]"
   ]
  },
  {
   "cell_type": "code",
   "execution_count": 112,
   "metadata": {},
   "outputs": [],
   "source": [
    "# run regression model using statmodels\n",
    "\n",
    "x_con = sm.add_constant(x)\n",
    "model = sm.OLS(y, x_con).fit()\n"
   ]
  },
  {
   "cell_type": "code",
   "execution_count": 113,
   "metadata": {},
   "outputs": [
    {
     "name": "stdout",
     "output_type": "stream",
     "text": [
      "                            OLS Regression Results                            \n",
      "==============================================================================\n",
      "Dep. Variable:                    SPY   R-squared:                       0.514\n",
      "Model:                            OLS   Adj. R-squared:                  0.510\n",
      "Method:                 Least Squares   F-statistic:                     119.0\n",
      "Date:                Thu, 20 Jan 2022   Prob (F-statistic):           5.46e-36\n",
      "Time:                        23:34:52   Log-Likelihood:                 864.41\n",
      "No. Observations:                 228   AIC:                            -1723.\n",
      "Df Residuals:                     225   BIC:                            -1713.\n",
      "Df Model:                           2                                         \n",
      "Covariance Type:            nonrobust                                         \n",
      "==============================================================================\n",
      "                 coef    std err          t      P>|t|      [0.025      0.975]\n",
      "------------------------------------------------------------------------------\n",
      "const          0.0006      0.000      1.752      0.081   -7.99e-05       0.001\n",
      "AAPL           0.3228      0.026     12.268      0.000       0.271       0.375\n",
      "TSLA           0.0366      0.012      3.056      0.003       0.013       0.060\n",
      "==============================================================================\n",
      "Omnibus:                       11.275   Durbin-Watson:                   2.001\n",
      "Prob(Omnibus):                  0.004   Jarque-Bera (JB):               25.363\n",
      "Skew:                          -0.057   Prob(JB):                     3.11e-06\n",
      "Kurtosis:                       4.630   Cond. No.                         74.0\n",
      "==============================================================================\n",
      "\n",
      "Notes:\n",
      "[1] Standard Errors assume that the covariance matrix of the errors is correctly specified.\n"
     ]
    }
   ],
   "source": [
    "# print model summary\n",
    "print(model.summary())"
   ]
  },
  {
   "cell_type": "code",
   "execution_count": 75,
   "metadata": {},
   "outputs": [],
   "source": [
    "\n"
   ]
  },
  {
   "cell_type": "code",
   "execution_count": 76,
   "metadata": {},
   "outputs": [
    {
     "data": {
      "text/html": [
       "<div>\n",
       "<style scoped>\n",
       "    .dataframe tbody tr th:only-of-type {\n",
       "        vertical-align: middle;\n",
       "    }\n",
       "\n",
       "    .dataframe tbody tr th {\n",
       "        vertical-align: top;\n",
       "    }\n",
       "\n",
       "    .dataframe thead th {\n",
       "        text-align: right;\n",
       "    }\n",
       "</style>\n",
       "<table border=\"1\" class=\"dataframe\">\n",
       "  <thead>\n",
       "    <tr style=\"text-align: right;\">\n",
       "      <th></th>\n",
       "      <th>AAPL</th>\n",
       "      <th>SPY</th>\n",
       "      <th>TSLA</th>\n",
       "    </tr>\n",
       "    <tr>\n",
       "      <th>Date</th>\n",
       "      <th></th>\n",
       "      <th></th>\n",
       "      <th></th>\n",
       "    </tr>\n",
       "  </thead>\n",
       "  <tbody>\n",
       "    <tr>\n",
       "      <th>2021-01-05</th>\n",
       "      <td>0.012364</td>\n",
       "      <td>0.006887</td>\n",
       "      <td>0.007317</td>\n",
       "    </tr>\n",
       "    <tr>\n",
       "      <th>2021-01-06</th>\n",
       "      <td>-0.033662</td>\n",
       "      <td>0.005979</td>\n",
       "      <td>0.028390</td>\n",
       "    </tr>\n",
       "    <tr>\n",
       "      <th>2021-01-07</th>\n",
       "      <td>0.034123</td>\n",
       "      <td>0.014857</td>\n",
       "      <td>0.079447</td>\n",
       "    </tr>\n",
       "    <tr>\n",
       "      <th>2021-01-08</th>\n",
       "      <td>0.008631</td>\n",
       "      <td>0.005698</td>\n",
       "      <td>0.078403</td>\n",
       "    </tr>\n",
       "    <tr>\n",
       "      <th>2021-01-11</th>\n",
       "      <td>-0.023249</td>\n",
       "      <td>-0.006741</td>\n",
       "      <td>-0.078214</td>\n",
       "    </tr>\n",
       "    <tr>\n",
       "      <th>...</th>\n",
       "      <td>...</td>\n",
       "      <td>...</td>\n",
       "      <td>...</td>\n",
       "    </tr>\n",
       "    <tr>\n",
       "      <th>2021-11-23</th>\n",
       "      <td>0.002422</td>\n",
       "      <td>0.001326</td>\n",
       "      <td>-0.041353</td>\n",
       "    </tr>\n",
       "    <tr>\n",
       "      <th>2021-11-24</th>\n",
       "      <td>0.003284</td>\n",
       "      <td>0.002670</td>\n",
       "      <td>0.006285</td>\n",
       "    </tr>\n",
       "    <tr>\n",
       "      <th>2021-11-26</th>\n",
       "      <td>-0.031678</td>\n",
       "      <td>-0.022303</td>\n",
       "      <td>-0.030538</td>\n",
       "    </tr>\n",
       "    <tr>\n",
       "      <th>2021-11-29</th>\n",
       "      <td>0.021874</td>\n",
       "      <td>0.012267</td>\n",
       "      <td>0.050900</td>\n",
       "    </tr>\n",
       "    <tr>\n",
       "      <th>2021-11-30</th>\n",
       "      <td>0.031578</td>\n",
       "      <td>-0.019458</td>\n",
       "      <td>0.006834</td>\n",
       "    </tr>\n",
       "  </tbody>\n",
       "</table>\n",
       "<p>229 rows × 3 columns</p>\n",
       "</div>"
      ],
      "text/plain": [
       "                AAPL       SPY      TSLA\n",
       "Date                                    \n",
       "2021-01-05  0.012364  0.006887  0.007317\n",
       "2021-01-06 -0.033662  0.005979  0.028390\n",
       "2021-01-07  0.034123  0.014857  0.079447\n",
       "2021-01-08  0.008631  0.005698  0.078403\n",
       "2021-01-11 -0.023249 -0.006741 -0.078214\n",
       "...              ...       ...       ...\n",
       "2021-11-23  0.002422  0.001326 -0.041353\n",
       "2021-11-24  0.003284  0.002670  0.006285\n",
       "2021-11-26 -0.031678 -0.022303 -0.030538\n",
       "2021-11-29  0.021874  0.012267  0.050900\n",
       "2021-11-30  0.031578 -0.019458  0.006834\n",
       "\n",
       "[229 rows x 3 columns]"
      ]
     },
     "execution_count": 76,
     "metadata": {},
     "output_type": "execute_result"
    }
   ],
   "source": [
    "df_close_pct"
   ]
  },
  {
   "cell_type": "code",
   "execution_count": 95,
   "metadata": {},
   "outputs": [],
   "source": [
    "df_close_log_return = np.log(df_close) - np.log(df_close.shift(1))"
   ]
  },
  {
   "cell_type": "code",
   "execution_count": 98,
   "metadata": {},
   "outputs": [
    {
     "data": {
      "text/html": [
       "<div>\n",
       "<style scoped>\n",
       "    .dataframe tbody tr th:only-of-type {\n",
       "        vertical-align: middle;\n",
       "    }\n",
       "\n",
       "    .dataframe tbody tr th {\n",
       "        vertical-align: top;\n",
       "    }\n",
       "\n",
       "    .dataframe thead th {\n",
       "        text-align: right;\n",
       "    }\n",
       "</style>\n",
       "<table border=\"1\" class=\"dataframe\">\n",
       "  <thead>\n",
       "    <tr style=\"text-align: right;\">\n",
       "      <th></th>\n",
       "      <th>AAPL</th>\n",
       "      <th>SPY</th>\n",
       "      <th>TSLA</th>\n",
       "    </tr>\n",
       "    <tr>\n",
       "      <th>Date</th>\n",
       "      <th></th>\n",
       "      <th></th>\n",
       "      <th></th>\n",
       "    </tr>\n",
       "  </thead>\n",
       "  <tbody>\n",
       "    <tr>\n",
       "      <th>2021-01-04</th>\n",
       "      <td>NaN</td>\n",
       "      <td>NaN</td>\n",
       "      <td>NaN</td>\n",
       "    </tr>\n",
       "    <tr>\n",
       "      <th>2021-01-05</th>\n",
       "      <td>0.012288</td>\n",
       "      <td>0.006864</td>\n",
       "      <td>0.007291</td>\n",
       "    </tr>\n",
       "    <tr>\n",
       "      <th>2021-01-06</th>\n",
       "      <td>-0.034241</td>\n",
       "      <td>0.005961</td>\n",
       "      <td>0.027995</td>\n",
       "    </tr>\n",
       "    <tr>\n",
       "      <th>2021-01-07</th>\n",
       "      <td>0.033554</td>\n",
       "      <td>0.014748</td>\n",
       "      <td>0.076448</td>\n",
       "    </tr>\n",
       "    <tr>\n",
       "      <th>2021-01-08</th>\n",
       "      <td>0.008594</td>\n",
       "      <td>0.005682</td>\n",
       "      <td>0.075481</td>\n",
       "    </tr>\n",
       "    <tr>\n",
       "      <th>...</th>\n",
       "      <td>...</td>\n",
       "      <td>...</td>\n",
       "      <td>...</td>\n",
       "    </tr>\n",
       "    <tr>\n",
       "      <th>2021-11-23</th>\n",
       "      <td>0.002419</td>\n",
       "      <td>0.001325</td>\n",
       "      <td>-0.042232</td>\n",
       "    </tr>\n",
       "    <tr>\n",
       "      <th>2021-11-24</th>\n",
       "      <td>0.003278</td>\n",
       "      <td>0.002666</td>\n",
       "      <td>0.006265</td>\n",
       "    </tr>\n",
       "    <tr>\n",
       "      <th>2021-11-26</th>\n",
       "      <td>-0.032191</td>\n",
       "      <td>-0.022556</td>\n",
       "      <td>-0.031014</td>\n",
       "    </tr>\n",
       "    <tr>\n",
       "      <th>2021-11-29</th>\n",
       "      <td>0.021638</td>\n",
       "      <td>0.012192</td>\n",
       "      <td>0.049647</td>\n",
       "    </tr>\n",
       "    <tr>\n",
       "      <th>2021-11-30</th>\n",
       "      <td>0.031089</td>\n",
       "      <td>-0.019649</td>\n",
       "      <td>0.006811</td>\n",
       "    </tr>\n",
       "  </tbody>\n",
       "</table>\n",
       "<p>230 rows × 3 columns</p>\n",
       "</div>"
      ],
      "text/plain": [
       "                AAPL       SPY      TSLA\n",
       "Date                                    \n",
       "2021-01-04       NaN       NaN       NaN\n",
       "2021-01-05  0.012288  0.006864  0.007291\n",
       "2021-01-06 -0.034241  0.005961  0.027995\n",
       "2021-01-07  0.033554  0.014748  0.076448\n",
       "2021-01-08  0.008594  0.005682  0.075481\n",
       "...              ...       ...       ...\n",
       "2021-11-23  0.002419  0.001325 -0.042232\n",
       "2021-11-24  0.003278  0.002666  0.006265\n",
       "2021-11-26 -0.032191 -0.022556 -0.031014\n",
       "2021-11-29  0.021638  0.012192  0.049647\n",
       "2021-11-30  0.031089 -0.019649  0.006811\n",
       "\n",
       "[230 rows x 3 columns]"
      ]
     },
     "execution_count": 98,
     "metadata": {},
     "output_type": "execute_result"
    }
   ],
   "source": [
    "df_close_log_return"
   ]
  }
 ],
 "metadata": {
  "interpreter": {
   "hash": "4480e32245891b07b354378c7dbc380a1b3f17ee24171af64af582c25470e498"
  },
  "kernelspec": {
   "display_name": "Python 3.8.8 64-bit ('base': conda)",
   "language": "python",
   "name": "python3"
  },
  "language_info": {
   "codemirror_mode": {
    "name": "ipython",
    "version": 3
   },
   "file_extension": ".py",
   "mimetype": "text/x-python",
   "name": "python",
   "nbconvert_exporter": "python",
   "pygments_lexer": "ipython3",
   "version": "3.8.8"
  },
  "orig_nbformat": 4
 },
 "nbformat": 4,
 "nbformat_minor": 2
}
